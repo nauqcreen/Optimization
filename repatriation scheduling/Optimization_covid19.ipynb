{
  "nbformat": 4,
  "nbformat_minor": 0,
  "metadata": {
    "colab": {
      "provenance": [],
      "include_colab_link": true
    },
    "kernelspec": {
      "name": "python3",
      "display_name": "Python 3"
    },
    "language_info": {
      "name": "python"
    }
  },
  "cells": [
    {
      "cell_type": "markdown",
      "metadata": {
        "id": "view-in-github",
        "colab_type": "text"
      },
      "source": [
        "<a href=\"https://colab.research.google.com/github/nauqcreen/Optimization/blob/main/Optimization_covid19.ipynb\" target=\"_parent\"><img src=\"https://colab.research.google.com/assets/colab-badge.svg\" alt=\"Open In Colab\"/></a>"
      ]
    },
    {
      "cell_type": "markdown",
      "source": [
        "### **Phase 1: Mount Google Drive and install libraries**"
      ],
      "metadata": {
        "id": "T1LMoPxipv0V"
      }
    },
    {
      "cell_type": "code",
      "execution_count": 2,
      "metadata": {
        "colab": {
          "base_uri": "https://localhost:8080/"
        },
        "id": "M3qJbjCWeZW3",
        "outputId": "895a08cc-13f6-476d-9814-cae5e4a334e9"
      },
      "outputs": [
        {
          "output_type": "stream",
          "name": "stdout",
          "text": [
            "Mounted at /content/drive\n"
          ]
        }
      ],
      "source": [
        "from google.colab import drive\n",
        "drive.mount('/content/drive')"
      ]
    },
    {
      "cell_type": "code",
      "source": [
        "print(\"PIP INSTALLING...\")\n",
        "!pip install pulp pandas openpyxl\n",
        "print(\"PIP INSTALLED\")"
      ],
      "metadata": {
        "colab": {
          "base_uri": "https://localhost:8080/"
        },
        "id": "lwz3pb2zg_ve",
        "outputId": "b33a1f52-0580-4bd3-be05-93e191131963"
      },
      "execution_count": 3,
      "outputs": [
        {
          "output_type": "stream",
          "name": "stdout",
          "text": [
            "PIP INSTALLING...\n",
            "Collecting pulp\n",
            "  Downloading pulp-3.2.1-py3-none-any.whl.metadata (6.9 kB)\n",
            "Requirement already satisfied: pandas in /usr/local/lib/python3.11/dist-packages (2.2.2)\n",
            "Requirement already satisfied: openpyxl in /usr/local/lib/python3.11/dist-packages (3.1.5)\n",
            "Requirement already satisfied: numpy>=1.23.2 in /usr/local/lib/python3.11/dist-packages (from pandas) (2.0.2)\n",
            "Requirement already satisfied: python-dateutil>=2.8.2 in /usr/local/lib/python3.11/dist-packages (from pandas) (2.9.0.post0)\n",
            "Requirement already satisfied: pytz>=2020.1 in /usr/local/lib/python3.11/dist-packages (from pandas) (2025.2)\n",
            "Requirement already satisfied: tzdata>=2022.7 in /usr/local/lib/python3.11/dist-packages (from pandas) (2025.2)\n",
            "Requirement already satisfied: et-xmlfile in /usr/local/lib/python3.11/dist-packages (from openpyxl) (2.0.0)\n",
            "Requirement already satisfied: six>=1.5 in /usr/local/lib/python3.11/dist-packages (from python-dateutil>=2.8.2->pandas) (1.17.0)\n",
            "Downloading pulp-3.2.1-py3-none-any.whl (16.4 MB)\n",
            "\u001b[2K   \u001b[90m━━━━━━━━━━━━━━━━━━━━━━━━━━━━━━━━━━━━━━━━\u001b[0m \u001b[32m16.4/16.4 MB\u001b[0m \u001b[31m82.4 MB/s\u001b[0m eta \u001b[36m0:00:00\u001b[0m\n",
            "\u001b[?25hInstalling collected packages: pulp\n",
            "Successfully installed pulp-3.2.1\n",
            "PIP INSTALLED\n"
          ]
        }
      ]
    },
    {
      "cell_type": "markdown",
      "source": [
        "Load data from Excel sheets"
      ],
      "metadata": {
        "id": "TARrf-fcqTyb"
      }
    },
    {
      "cell_type": "markdown",
      "source": [
        "### **Phase 2: Load and preprocess data from Excel**"
      ],
      "metadata": {
        "id": "LHFPSx_AyoQ2"
      }
    },
    {
      "cell_type": "markdown",
      "source": [
        "Load data from Excel"
      ],
      "metadata": {
        "id": "_3VrlBvsyzMm"
      }
    },
    {
      "cell_type": "code",
      "source": [
        "import pandas as pd\n",
        "\n",
        "file_path = '/content/drive/MyDrive/Optimization_covid19/Optimization_LN2.xlsx'\n",
        "\n",
        "try:\n",
        "    df_demand = pd.read_excel(file_path, sheet_name='Demand_P_ij')\n",
        "    df_weights = pd.read_excel(file_path, sheet_name='Priority_Weights')\n",
        "    df_airplanes = pd.read_excel(file_path, sheet_name='Airplanes_Capacity')\n",
        "    df_quarantine = pd.read_excel(file_path, sheet_name='Quarantine_Capacity')\n",
        "    print(\"Successfully loaded all sheets from the Excel file.\")\n",
        "except FileNotFoundError:\n",
        "    print(f\"ERROR: File not found at '{file_path}'\")\n",
        "    raise\n",
        "except ValueError as e:\n",
        "    print(f\"ERROR: Could not read one or more sheets. Please check sheet names in your Excel file.\")\n",
        "    print(f\"Details: {e}\")\n",
        "    raise"
      ],
      "metadata": {
        "colab": {
          "base_uri": "https://localhost:8080/"
        },
        "id": "ch5b9hrehLwC",
        "outputId": "cd68d9e4-67b8-4aba-b3e6-3880a6de33c8"
      },
      "execution_count": 4,
      "outputs": [
        {
          "output_type": "stream",
          "name": "stdout",
          "text": [
            "Successfully loaded all sheets from the Excel file.\n"
          ]
        }
      ]
    },
    {
      "cell_type": "markdown",
      "source": [
        "Preprocess and structure the data"
      ],
      "metadata": {
        "id": "ckYVfd_fqYB2"
      }
    },
    {
      "cell_type": "code",
      "source": [
        "# Clean 'City_ID' and 'PriorityGroup_ID'\n",
        "df_demand['City_ID'] = df_demand['City_ID'].astype(str).str.strip()\n",
        "df_demand['PriorityGroup_ID'] = df_demand['PriorityGroup_ID'].astype(str).str.strip()\n",
        "df_weights['PriorityGroup_ID'] = df_weights['PriorityGroup_ID'].astype(str).str.strip()\n",
        "df_airplanes['Airplane_ID'] = df_airplanes['Airplane_ID'].astype(str).str.strip()"
      ],
      "metadata": {
        "id": "KuinK7mpqfqu"
      },
      "execution_count": 5,
      "outputs": []
    },
    {
      "cell_type": "markdown",
      "source": [
        "1. Define Sets: CITIES, PRIORITY_GROUPS, AIRPLANES"
      ],
      "metadata": {
        "id": "2cY-nHfBqvPF"
      }
    },
    {
      "cell_type": "code",
      "source": [
        "CITIES = sorted(list(df_demand['City_ID'].unique()))\n",
        "# Ensure PRIORITY_GROUPS are taken from df_weights\n",
        "PRIORITY_GROUPS = sorted(list(df_weights['PriorityGroup_ID'].unique()))\n",
        "AIRPLANES = sorted(list(df_airplanes['Airplane_ID'].unique()))\n",
        "\n",
        "print(\"\\n--- Sets ---\")\n",
        "print(f\"CITIES (M): {CITIES}\")\n",
        "print(f\"PRIORITY_GROUPS (N): {PRIORITY_GROUPS}\")\n",
        "print(f\"AIRPLANES (U): {AIRPLANES}\")"
      ],
      "metadata": {
        "colab": {
          "base_uri": "https://localhost:8080/"
        },
        "id": "3kwDQ2Nwqfoq",
        "outputId": "56039e25-9335-4c88-d11b-a163525e5ad0"
      },
      "execution_count": 6,
      "outputs": [
        {
          "output_type": "stream",
          "name": "stdout",
          "text": [
            "\n",
            "--- Sets ---\n",
            "CITIES (M): ['C001', 'C002', 'C003', 'C004', 'C005']\n",
            "PRIORITY_GROUPS (N): ['N1', 'N2', 'N3', 'N4']\n",
            "AIRPLANES (U): ['QH001', 'QH002', 'VJ001', 'VJ002', 'VJ003', 'VN001', 'VN002', 'VN003']\n"
          ]
        }
      ]
    },
    {
      "cell_type": "markdown",
      "source": [
        "2. Define Parameters"
      ],
      "metadata": {
        "id": "1tUAk77bq0pw"
      }
    },
    {
      "cell_type": "code",
      "source": [
        "# P_ij: Demand from city i for priority group j\n",
        "P_ij = {}\n",
        "for index, row in df_demand.iterrows():\n",
        "    P_ij[(row['City_ID'], row['PriorityGroup_ID'])] = row['Demand_P_ij']\n",
        "\n",
        "# omega_j: Priority weight for group j\n",
        "omega_j = {}\n",
        "for index, row in df_weights.iterrows():\n",
        "    omega_j[row['PriorityGroup_ID']] = row['Weight_omega_j']\n",
        "\n",
        "# C_k: Capacity of airplane k\n",
        "C_k = {}\n",
        "for index, row in df_airplanes.iterrows():\n",
        "    C_k[row['Airplane_ID']] = row['Capacity_C_k']"
      ],
      "metadata": {
        "id": "JoyUcv-FqfmU"
      },
      "execution_count": 7,
      "outputs": []
    },
    {
      "cell_type": "code",
      "source": [
        "# QC: Total quarantine capacity\n",
        "try:\n",
        "    QC = df_quarantine[df_quarantine['Parameter'] == 'QuarantineCapacity_QC']['Value'].iloc[0]\n",
        "except IndexError:\n",
        "    print(\"ERROR: 'QuarantineCapacity_QC' not found or 'Value' column is missing in 'Quarantine_Capacity' sheet.\")\n",
        "    print(\"Please ensure the sheet has a row with 'Parameter' as 'QuarantineCapacity_QC' and a corresponding 'Value'.\")\n",
        "    raise\n",
        "except KeyError as e:\n",
        "    print(f\"ERROR: Column {e} not found in 'Quarantine_Capacity' sheet. Expected columns: 'Parameter', 'Value'.\")\n",
        "    raise"
      ],
      "metadata": {
        "id": "1EG9bmjMqfj9"
      },
      "execution_count": 8,
      "outputs": []
    },
    {
      "cell_type": "code",
      "source": [
        "# Detailed output\n",
        "city_names_map = pd.Series(df_demand.City_Name.values, index=df_demand.City_ID).to_dict()\n",
        "priority_group_names_map = pd.Series(df_weights.PriorityGroup_Name.values, index=df_weights.PriorityGroup_ID).to_dict()\n",
        "airplane_details_map = {row['Airplane_ID']: {'Type': row['Airplane_Type'], 'Airline': row['Airline']} for index, row in df_airplanes.iterrows()}"
      ],
      "metadata": {
        "id": "0m2TdFzTqfho"
      },
      "execution_count": 9,
      "outputs": []
    },
    {
      "cell_type": "code",
      "source": [
        "print(\"\\n--- Parameters ---\")\n",
        "# Some instances\n",
        "if CITIES and PRIORITY_GROUPS:\n",
        "    example_city = CITIES[0]\n",
        "    example_group = PRIORITY_GROUPS[0]\n",
        "    print(f\"P_ij for ({example_city}, {example_group}): {P_ij.get((example_city, example_group), 'Not Defined')}\")\n",
        "if PRIORITY_GROUPS:\n",
        "    example_group = PRIORITY_GROUPS[0]\n",
        "    print(f\"omega_j for {example_group}: {omega_j.get(example_group, 'Not Defined')}\")\n",
        "if AIRPLANES:\n",
        "    example_airplane = AIRPLANES[0]\n",
        "    print(f\"C_k for {example_airplane}: {C_k.get(example_airplane, 'Not Defined')}\")\n",
        "print(f\"QC: {QC}\")\n",
        "\n",
        "V_BIG_M = 1000000\n",
        "\n",
        "print(\"\\nStep 2 Completed: Data loaded and preprocessed!\")"
      ],
      "metadata": {
        "colab": {
          "base_uri": "https://localhost:8080/"
        },
        "id": "x-9cLUiFqffR",
        "outputId": "dc22792e-86c4-4238-efe1-d3c7ad76a109"
      },
      "execution_count": 10,
      "outputs": [
        {
          "output_type": "stream",
          "name": "stdout",
          "text": [
            "\n",
            "--- Parameters ---\n",
            "P_ij for (C001, N1): 7500\n",
            "omega_j for N1: 10\n",
            "C_k for QH001: 290\n",
            "QC: 5000\n",
            "\n",
            "Step 2 Completed: Data loaded and preprocessed!\n"
          ]
        }
      ]
    },
    {
      "cell_type": "markdown",
      "source": [
        "### **Phase 3: Define MILP model - problem, variables, and objective function**"
      ],
      "metadata": {
        "id": "wuYLAq78rapp"
      }
    },
    {
      "cell_type": "markdown",
      "source": [
        "3. Initialize the MILP Problem"
      ],
      "metadata": {
        "id": "ctxOHBGDXCyR"
      }
    },
    {
      "cell_type": "code",
      "source": [
        "from pulp import LpProblem, LpMaximize, LpVariable, lpSum, LpBinary, LpInteger\n",
        "\n",
        "prob = LpProblem(\"RepatriationSchedulingProblem\", LpMaximize)\n",
        "print(\"Initialized LpProblem\")"
      ],
      "metadata": {
        "colab": {
          "base_uri": "https://localhost:8080/"
        },
        "id": "GixFgjFWqfdI",
        "outputId": "b0386222-0bf9-4050-b339-f638cd27b3fc"
      },
      "execution_count": 11,
      "outputs": [
        {
          "output_type": "stream",
          "name": "stdout",
          "text": [
            "Initialized LpProblem\n"
          ]
        }
      ]
    },
    {
      "cell_type": "markdown",
      "source": [
        "4. Define decision variables"
      ],
      "metadata": {
        "id": "v-g65DzwXOjv"
      }
    },
    {
      "cell_type": "code",
      "source": [
        "# x_ik: Binary variable, 1 if airplane k is assigned to city i, 0 otherwise\n",
        "# LpVariable.dicts(name, (index_set_1, index_set_2, ...), cat=...)\n",
        "x_ik = LpVariable.dicts(\"x_ik\", (CITIES, AIRPLANES), cat=LpBinary)\n",
        "print(\"Defined x_ik variables\")"
      ],
      "metadata": {
        "colab": {
          "base_uri": "https://localhost:8080/"
        },
        "id": "dg6MicOKqfbA",
        "outputId": "3e7253a7-de31-44ad-edc0-422bf8024d4c"
      },
      "execution_count": 12,
      "outputs": [
        {
          "output_type": "stream",
          "name": "stdout",
          "text": [
            "Defined x_ik variables\n"
          ]
        }
      ]
    },
    {
      "cell_type": "code",
      "source": [
        "# R_ij: Integer variable, number of citizens of group j from city i repatriated\n",
        "# lowBound is 0. upBound is the initial demand P_ij for that group in that city.\n",
        "R_ij = LpVariable.dicts(\"R_ij\", (CITIES, PRIORITY_GROUPS), lowBound=0, cat=LpInteger)\n",
        "for i in CITIES:\n",
        "    for j in PRIORITY_GROUPS:\n",
        "        R_ij[i][j].upBound = P_ij.get((i, j), 0)\n",
        "print(\"Defined R_ij variables and set their upper bounds\")"
      ],
      "metadata": {
        "colab": {
          "base_uri": "https://localhost:8080/"
        },
        "id": "9118U8FnqfYq",
        "outputId": "2d6c1c3c-ff5b-48b5-d870-da273be158e1"
      },
      "execution_count": 13,
      "outputs": [
        {
          "output_type": "stream",
          "name": "stdout",
          "text": [
            "Defined R_ij variables and set their upper bounds\n"
          ]
        }
      ]
    },
    {
      "cell_type": "code",
      "source": [
        "# L_i: Integer variable, total number of citizens repatriated from city i\n",
        "L_i = LpVariable.dicts(\"L_i\", CITIES, lowBound=0, cat=LpInteger)\n",
        "print(\"Defined L_i variables\")"
      ],
      "metadata": {
        "colab": {
          "base_uri": "https://localhost:8080/"
        },
        "id": "sNHMtIUbqfWj",
        "outputId": "a55f92e8-c4f4-434b-8126-f2cd98516dc6"
      },
      "execution_count": 14,
      "outputs": [
        {
          "output_type": "stream",
          "name": "stdout",
          "text": [
            "Defined L_i variables\n"
          ]
        }
      ]
    },
    {
      "cell_type": "markdown",
      "source": [
        "5. Define auxiliary variables (as per Al-Shihabi & Mladenović, 2022)"
      ],
      "metadata": {
        "id": "t0PB0vMGXi9A"
      }
    },
    {
      "cell_type": "code",
      "source": [
        "# P_cum_ij: Cumulative demand up to priority group j in city i (PARAMETER, calculated from P_ij)\n",
        "# The PRIORITY_GROUPS list was sorted alphabetically. Need a ver sorted by omega_j\n",
        "sorted_priority_groups_by_weight = sorted(PRIORITY_GROUPS, key=lambda pg_key: omega_j[pg_key], reverse=True)\n",
        "\n",
        "P_cum_ij = {}\n",
        "for i in CITIES:\n",
        "    current_sum = 0\n",
        "    for j_group in sorted_priority_groups_by_weight:\n",
        "        current_sum += P_ij.get((i, j_group), 0)\n",
        "        P_cum_ij[(i, j_group)] = current_sum\n",
        "print(\"Calculated P_cum_ij parameter\")\n",
        "\n",
        "# P_hat_cum_ij: Variable, cumulative number of people in group j and higher priority groups\n",
        "# AFTER L_i citizens are repatriated from city i\n",
        "P_hat_cum_ij = LpVariable.dicts(\"P_hat_cum_ij\", (CITIES, PRIORITY_GROUPS), lowBound=0, cat=LpInteger)\n",
        "print(\"Defined P_hat_cum_ij variables\")\n",
        "\n",
        "# epsilon_i: Binary variable, auxiliary for L_i calculation\n",
        "epsilon_i = LpVariable.dicts(\"epsilon_i\", CITIES, cat=LpBinary)\n",
        "print(\"Defined epsilon_i variables\")\n",
        "\n",
        "# alpha_ij: Binary variable, auxiliary for P_hat_cum_ij calculation\n",
        "alpha_ij = LpVariable.dicts(\"alpha_ij\", (CITIES, PRIORITY_GROUPS), cat=LpBinary)\n",
        "print(\"Defined alpha_ij variables\")"
      ],
      "metadata": {
        "colab": {
          "base_uri": "https://localhost:8080/"
        },
        "id": "oFXtr54cqfUd",
        "outputId": "1472e7f9-84d4-424c-aff9-ddf476675d63"
      },
      "execution_count": 15,
      "outputs": [
        {
          "output_type": "stream",
          "name": "stdout",
          "text": [
            "Calculated P_cum_ij parameter\n",
            "Defined P_hat_cum_ij variables\n",
            "Defined epsilon_i variables\n",
            "Defined alpha_ij variables\n"
          ]
        }
      ]
    },
    {
      "cell_type": "markdown",
      "source": [
        "6. Objective function"
      ],
      "metadata": {
        "id": "bcfOw3DkX-kr"
      }
    },
    {
      "cell_type": "code",
      "source": [
        "# Maximize sum(omega_j * R_ij) for all i in CITIES and j in PRIORITY_GROUPS\n",
        "prob += lpSum(omega_j[j] * R_ij[i][j] for i in CITIES for j in PRIORITY_GROUPS), \"Maximize_Total_Weighted_Priority_Score\"\n",
        "print(\"Defined OF\")\n",
        "\n",
        "print(\"\\nStep 3 Completed: MILP problem initialized, variables defined, and OF are set\")"
      ],
      "metadata": {
        "colab": {
          "base_uri": "https://localhost:8080/"
        },
        "id": "TrIUSpj6qfSY",
        "outputId": "a4593448-b2ea-4415-9f3f-7ad3da67c80e"
      },
      "execution_count": 16,
      "outputs": [
        {
          "output_type": "stream",
          "name": "stdout",
          "text": [
            "Defined OF\n",
            "\n",
            "Step 3 Completed: MILP problem initialized, variables defined, and OF are set\n"
          ]
        }
      ]
    },
    {
      "cell_type": "markdown",
      "source": [
        "### **Phase 4: Defining model constraints**"
      ],
      "metadata": {
        "id": "Magt3D1iyOZp"
      }
    },
    {
      "cell_type": "code",
      "source": [
        "# Constraint: L_i = sum over j (R_ij[i][j])\n",
        "for i in CITIES:\n",
        "    prob += L_i[i] == lpSum(R_ij[i][j] for j in PRIORITY_GROUPS), f\"Constraint_TotalRepatriatedFromCity_{i}\"\n",
        "print(\"  - Defined constraints for L_i (total from city)\")"
      ],
      "metadata": {
        "colab": {
          "base_uri": "https://localhost:8080/"
        },
        "id": "F1MuCR-3qfQQ",
        "outputId": "856f615a-dd4a-4f46-e34e-4d0324c85ddb"
      },
      "execution_count": 17,
      "outputs": [
        {
          "output_type": "stream",
          "name": "stdout",
          "text": [
            "  - Defined constraints for L_i (total from city)\n"
          ]
        }
      ]
    },
    {
      "cell_type": "code",
      "source": [
        "# Constraints for L_i based on airplane capacity and total demand in the city\n",
        "# P_total_i calculates the total demand in city i across all priority groups\n",
        "P_total_i = {city_id: P_cum_ij.get((city_id, sorted_priority_groups_by_weight[-1]), 0) for city_id in CITIES}\n",
        "\n",
        "for i in CITIES:\n",
        "    # Equations 3 & 4: Define epsilon_i\n",
        "    # epsilon_i = 1 if P_total_i[i] > sum(C_k[k_plane] * x_ik[i][k_plane]), 0 otherwise\n",
        "    prob += P_total_i[i] - lpSum(C_k[k_plane] * x_ik[i][k_plane] for k_plane in AIRPLANES) <= epsilon_i[i] * V_BIG_M, f\"Constraint_Epsilon1_{i}\"\n",
        "    prob += P_total_i[i] - lpSum(C_k[k_plane] * x_ik[i][k_plane] for k_plane in AIRPLANES) >= (epsilon_i[i] - 1) * V_BIG_M + 0.001, f\"Constraint_Epsilon2_{i}\"\n",
        "\n",
        "    # Equations 5 & 6: If epsilon_i = 0 (demand <= assigned capacity), then L_i = P_total_i[i]\n",
        "    # If epsilon_i = 0 (P_total_i <= sum_assigned_capacity), L_i = P_total_i\n",
        "    prob += L_i[i] <= P_total_i[i] + epsilon_i[i] * V_BIG_M, f\"Constraint_L_i_if_epsilon0_upper_{i}\"\n",
        "    prob += L_i[i] >= P_total_i[i] - epsilon_i[i] * V_BIG_M, f\"Constraint_L_i_if_epsilon0_lower_{i}\"\n",
        "\n",
        "    # Equations 7 & 8: If epsilon_i = 1 (demand > assigned capacity), then L_i = sum_assigned_capacity\n",
        "    prob += L_i[i] <= lpSum(C_k[k_plane] * x_ik[i][k_plane] for k_plane in AIRPLANES) + (1 - epsilon_i[i]) * V_BIG_M, f\"Constraint_L_i_if_epsilon1_upper_{i}\"\n",
        "    prob += L_i[i] >= lpSum(C_k[k_plane] * x_ik[i][k_plane] for k_plane in AIRPLANES) - (1 - epsilon_i[i]) * V_BIG_M, f\"Constraint_L_i_if_epsilon1_lower_{i}\"\n",
        "print(\"  - Defined constraints for L_i based on epsilon_i (airplane capacity vs demand).\")"
      ],
      "metadata": {
        "colab": {
          "base_uri": "https://localhost:8080/"
        },
        "id": "RClbLQzmqfOG",
        "outputId": "0c26b79b-8bb1-4fab-ce2d-6e432e0aaf59"
      },
      "execution_count": 18,
      "outputs": [
        {
          "output_type": "stream",
          "name": "stdout",
          "text": [
            "  - Defined constraints for L_i based on epsilon_i (airplane capacity vs demand).\n"
          ]
        }
      ]
    },
    {
      "cell_type": "code",
      "source": [
        "# Constraints for P_hat_cum_ij\n",
        "for i in CITIES:\n",
        "    for j_group in sorted_priority_groups_by_weight:\n",
        "        # Equations 9 & 10: Define alpha_ij[i][j_group]\n",
        "        # alpha_ij = 1 if L_i[i] >= P_cum_ij[(i,j_group)], 0 otherwise\n",
        "        prob += L_i[i] - P_cum_ij.get((i, j_group), 0) <= alpha_ij[i][j_group] * V_BIG_M, f\"Constraint_Alpha1_{i}_{j_group}\"\n",
        "        prob += L_i[i] - P_cum_ij.get((i, j_group), 0) >= (alpha_ij[i][j_group] - 1) * V_BIG_M + 0.001, f\"Constraint_Alpha2_{i}_{j_group}\"\n",
        "\n",
        "        # Equations 11 & 12: If alpha_ij[i][j_group] = 1 (L_i repatriates all in this cumulative group), P_hat_cum_ij = 0\n",
        "        prob += P_hat_cum_ij[i][j_group] <= (1 - alpha_ij[i][j_group]) * V_BIG_M, f\"Constraint_P_hat_if_alpha1_upper_{i}_{j_group}\"\n",
        "        # P_hat_cum_ij is non-negative by definition (lowBound=0)\n",
        "        prob += P_hat_cum_ij[i][j_group] >= - (1 - alpha_ij[i][j_group]) * V_BIG_M, f\"Constraint_P_hat_if_alpha1_lower_dummy_{i}_{j_group}\"\n",
        "\n",
        "\n",
        "        # Equations 13 & 14: If alpha_ij[i][j_group] = 0 (L_i does not repatriate all), P_hat_cum_ij = P_cum_ij - L_i\n",
        "        prob += P_hat_cum_ij[i][j_group] <= P_cum_ij.get((i, j_group), 0) - L_i[i] + alpha_ij[i][j_group] * V_BIG_M, f\"Constraint_P_hat_if_alpha0_upper_{i}_{j_group}\"\n",
        "        prob += P_hat_cum_ij[i][j_group] >= P_cum_ij.get((i, j_group), 0) - L_i[i] - alpha_ij[i][j_group] * V_BIG_M, f\"Constraint_P_hat_if_alpha0_lower_{i}_{j_group}\"\n",
        "print(\"  - Defined constraints for P_hat_cum_ij (remaining cumulative demand) using alpha_ij.\")"
      ],
      "metadata": {
        "colab": {
          "base_uri": "https://localhost:8080/"
        },
        "id": "3l2exFvMqfMA",
        "outputId": "22549672-a879-4013-e112-3a2fb6094b24"
      },
      "execution_count": 19,
      "outputs": [
        {
          "output_type": "stream",
          "name": "stdout",
          "text": [
            "  - Defined constraints for P_hat_cum_ij (remaining cumulative demand) using alpha_ij.\n"
          ]
        }
      ]
    },
    {
      "cell_type": "code",
      "source": [
        "# Constraint: Calculating R_ij (actual repatriated from group j, city i)\n",
        "for j_idx, j_group in enumerate(sorted_priority_groups_by_weight):\n",
        "        if j_idx == 0: # Highest priority group\n",
        "            prob += R_ij[i][j_group] == P_cum_ij.get((i, j_group), 0) - P_hat_cum_ij[i][j_group], f\"Constraint_Calc_R_ij_first_group_{i}_{j_group}\"\n",
        "        else:\n",
        "            j_prev = sorted_priority_groups_by_weight[j_idx-1]\n",
        "            prob += R_ij[i][j_group] == (P_cum_ij.get((i, j_group), 0) - P_hat_cum_ij[i][j_group]) - \\\n",
        "                                       (P_cum_ij.get((i, j_prev), 0) - P_hat_cum_ij[i][j_prev]), f\"Constraint_Calc_R_ij_other_groups_{i}_{j_group}\"\n",
        "print(\"  - Defined constraints for R_ij (actual repatriated per group).\")"
      ],
      "metadata": {
        "colab": {
          "base_uri": "https://localhost:8080/"
        },
        "id": "bt5pn86oqfJx",
        "outputId": "fe2c6972-6c4c-4fdd-fefc-9838a32a7eec"
      },
      "execution_count": 20,
      "outputs": [
        {
          "output_type": "stream",
          "name": "stdout",
          "text": [
            "  - Defined constraints for R_ij (actual repatriated per group).\n"
          ]
        }
      ]
    },
    {
      "cell_type": "code",
      "source": [
        "# Constraint: Total repatriated citizens cannot exceed quarantine capacity\n",
        "prob += lpSum(L_i[i] for i in CITIES) <= QC, \"Constraint_QuarantineCapacity\"\n",
        "print(\"  - Defined Quarantine Capacity constraint\")"
      ],
      "metadata": {
        "colab": {
          "base_uri": "https://localhost:8080/"
        },
        "id": "G3M5Jxb6qfHW",
        "outputId": "4bd5385e-e2df-47d1-8fbf-879696d78e13"
      },
      "execution_count": 21,
      "outputs": [
        {
          "output_type": "stream",
          "name": "stdout",
          "text": [
            "  - Defined Quarantine Capacity constraint\n"
          ]
        }
      ]
    },
    {
      "cell_type": "code",
      "source": [
        "# Constraint: Each airplane can be assigned to at most one city\n",
        "for k_plane in AIRPLANES:\n",
        "    prob += lpSum(x_ik[i][k_plane] for i in CITIES) <= 1, f\"Constraint_AirplaneAssignment_{k_plane}\"\n",
        "print(\"  - Defined Airplane Assignment constraints\")"
      ],
      "metadata": {
        "colab": {
          "base_uri": "https://localhost:8080/"
        },
        "id": "_KA1_lAmstEH",
        "outputId": "2e71e5be-59c9-4c9e-db95-fbd44e0225c8"
      },
      "execution_count": 22,
      "outputs": [
        {
          "output_type": "stream",
          "name": "stdout",
          "text": [
            "  - Defined Airplane Assignment constraints\n"
          ]
        }
      ]
    },
    {
      "cell_type": "code",
      "source": [
        "# Sanity Constraint: L_i cannot exceed total demand P_total_i[i]\n",
        "for i in CITIES:\n",
        "    prob += L_i[i] <= P_total_i[i], f\"Constraint_Li_lessthan_TotalDemandInCity_{i}\"\n",
        "print(\"  - Defined L_i upper bound by total city demand.\")\n",
        "\n",
        "print(\"\\nStep 4 Completed: All model constraints defined\")"
      ],
      "metadata": {
        "colab": {
          "base_uri": "https://localhost:8080/"
        },
        "id": "Jq5y2SlcstCF",
        "outputId": "4e83a049-57a7-4d72-8fb6-e1ce36db045c"
      },
      "execution_count": 23,
      "outputs": [
        {
          "output_type": "stream",
          "name": "stdout",
          "text": [
            "  - Defined L_i upper bound by total city demand.\n",
            "\n",
            "Step 4 Completed: All model constraints defined\n"
          ]
        }
      ]
    },
    {
      "cell_type": "markdown",
      "source": [
        "### **Phase 5: Solve the MILP problem**"
      ],
      "metadata": {
        "id": "6MmwktqOs59i"
      }
    },
    {
      "cell_type": "code",
      "source": [
        "prob.solve()\n",
        "\n",
        "solution_status = pulp.LpStatus[prob.status]\n",
        "print(f\"\\n--- Solution status ---\")\n",
        "print(f\"Status: {solution_status}\")\n",
        "\n",
        "# Optimal value\n",
        "if prob.objective is not None and prob.status == pulp.LpStatusOptimal:\n",
        "    objective_value = pulp.value(prob.objective)\n",
        "    print(f\"Total weighted priority score: {objective_value:.2f}\")\n",
        "else:\n",
        "    print(\"Objective value not available\")"
      ],
      "metadata": {
        "colab": {
          "base_uri": "https://localhost:8080/",
          "height": 216
        },
        "id": "z9CJXK5uss_5",
        "outputId": "0b08de0a-65f3-490f-a2b2-7ca841cdb945"
      },
      "execution_count": 24,
      "outputs": [
        {
          "output_type": "error",
          "ename": "NameError",
          "evalue": "name 'pulp' is not defined",
          "traceback": [
            "\u001b[0;31m---------------------------------------------------------------------------\u001b[0m",
            "\u001b[0;31mNameError\u001b[0m                                 Traceback (most recent call last)",
            "\u001b[0;32m/tmp/ipython-input-24-1294613435.py\u001b[0m in \u001b[0;36m<cell line: 0>\u001b[0;34m()\u001b[0m\n\u001b[1;32m      1\u001b[0m \u001b[0mprob\u001b[0m\u001b[0;34m.\u001b[0m\u001b[0msolve\u001b[0m\u001b[0;34m(\u001b[0m\u001b[0;34m)\u001b[0m\u001b[0;34m\u001b[0m\u001b[0;34m\u001b[0m\u001b[0m\n\u001b[1;32m      2\u001b[0m \u001b[0;34m\u001b[0m\u001b[0m\n\u001b[0;32m----> 3\u001b[0;31m \u001b[0msolution_status\u001b[0m \u001b[0;34m=\u001b[0m \u001b[0mpulp\u001b[0m\u001b[0;34m.\u001b[0m\u001b[0mLpStatus\u001b[0m\u001b[0;34m[\u001b[0m\u001b[0mprob\u001b[0m\u001b[0;34m.\u001b[0m\u001b[0mstatus\u001b[0m\u001b[0;34m]\u001b[0m\u001b[0;34m\u001b[0m\u001b[0;34m\u001b[0m\u001b[0m\n\u001b[0m\u001b[1;32m      4\u001b[0m \u001b[0mprint\u001b[0m\u001b[0;34m(\u001b[0m\u001b[0;34mf\"\\n--- Solution status ---\"\u001b[0m\u001b[0;34m)\u001b[0m\u001b[0;34m\u001b[0m\u001b[0;34m\u001b[0m\u001b[0m\n\u001b[1;32m      5\u001b[0m \u001b[0mprint\u001b[0m\u001b[0;34m(\u001b[0m\u001b[0;34mf\"Status: {solution_status}\"\u001b[0m\u001b[0;34m)\u001b[0m\u001b[0;34m\u001b[0m\u001b[0;34m\u001b[0m\u001b[0m\n",
            "\u001b[0;31mNameError\u001b[0m: name 'pulp' is not defined"
          ]
        }
      ]
    },
    {
      "cell_type": "markdown",
      "source": [
        "import pulp\n",
        "\n"
      ],
      "metadata": {
        "id": "Q2P0WKitaVBb"
      }
    },
    {
      "cell_type": "code",
      "source": [
        "import pulp\n",
        "\n",
        "prob.solve()\n",
        "\n",
        "solution_status = pulp.LpStatus[prob.status]\n",
        "print(f\"\\n--- Solution status ---\")\n",
        "print(f\"Status: {solution_status}\")\n",
        "\n",
        "# Optimal value\n",
        "if prob.objective is not None and prob.status == pulp.LpStatusOptimal:\n",
        "    objective_value = pulp.value(prob.objective)\n",
        "    print(f\"Total weighted priority score: {objective_value:.2f}\")\n",
        "else:\n",
        "    print(\"Objective value not available\")"
      ],
      "metadata": {
        "colab": {
          "base_uri": "https://localhost:8080/"
        },
        "id": "pZpWQVgoaYL1",
        "outputId": "6211cd69-cadd-46c1-b03d-da46002382da"
      },
      "execution_count": 25,
      "outputs": [
        {
          "output_type": "stream",
          "name": "stdout",
          "text": [
            "\n",
            "--- Solution status ---\n",
            "Status: Optimal\n",
            "Total weighted priority score: 22110.00\n"
          ]
        }
      ]
    },
    {
      "cell_type": "code",
      "source": [
        "if prob.status == pulp.LpStatusOptimal or prob.status == pulp.LpStatusFeasible:\n",
        "    print(\"\\n--- REPATRIATION SCHEDULE ---\")\n",
        "    total_repatriated_overall = 0\n",
        "    any_flight_scheduled = False\n",
        "\n",
        "    for i in CITIES:\n",
        "        city_name_display = city_names_map.get(i, i)\n",
        "        total_repatriated_from_city_i = pulp.value(L_i[i])\n",
        "        if total_repatriated_from_city_i is None: total_repatriated_from_city_i = 0\n",
        "\n",
        "        total_repatriated_overall += total_repatriated_from_city_i\n",
        "        print(f\"\\nCity: {city_name_display} (ID: {i})\")\n",
        "\n",
        "        assigned_planes_details = []\n",
        "        city_had_flights = False\n",
        "        for k_plane in AIRPLANES:\n",
        "            if x_ik[i][k_plane].varValue is not None and pulp.value(x_ik[i][k_plane]) > 0.5:\n",
        "                plane_detail = airplane_details_map.get(k_plane, {'Airline': 'N/A', 'Type': 'N/A'})\n",
        "                assigned_planes_details.append(\n",
        "                    f\"  - Airplane {k_plane} ({plane_detail['Airline']} - {plane_detail['Type']}, Capacity: {C_k[k_plane]})\"\n",
        "                )\n",
        "                city_had_flights = True\n",
        "                any_flight_scheduled = True\n",
        "\n",
        "        if city_had_flights:\n",
        "            print(\"  Assigned Airplanes:\")\n",
        "            for detail_str in assigned_planes_details:\n",
        "                print(detail_str)\n",
        "        else:\n",
        "            print(\"  No airplanes assigned to this city.\")\n",
        "\n",
        "        print(f\"  Total Repatriated from this city (L_{i}): {total_repatriated_from_city_i:.0f}\")\n",
        "\n",
        "        if total_repatriated_from_city_i > 0:\n",
        "            print(\"  Repatriation by Priority Group:\")\n",
        "            for j_group in sorted_priority_groups_by_weight:\n",
        "                repatriated_R_ij = pulp.value(R_ij[i][j_group])\n",
        "                if repatriated_R_ij is None: repatriated_R_ij = 0\n",
        "\n",
        "                if repatriated_R_ij > 0.01: # Show only if >0 to avoid clutter\n",
        "                    group_name_display = priority_group_names_map.get(j_group, j_group)\n",
        "                    initial_demand_P_ij = P_ij.get((i, j_group), 0)\n",
        "                    print(f\"    - Group {j_group} ({group_name_display}): {repatriated_R_ij:.0f} (Initial Demand: {initial_demand_P_ij})\")\n",
        "\n",
        "    if not any_flight_scheduled and total_repatriated_overall == 0 :\n",
        "         print(\"\\nNo flights were scheduled, and no citizens were repatriated in this plan.\")\n",
        "\n",
        "    print(\"\\n\\n\\n\")\n",
        "    print(\"\\n--- OVERALL STATISTICS ---\")\n",
        "    print(f\"Total citizens repatriated across all cities: {total_repatriated_overall:.0f}\")\n",
        "    print(f\"Quarantine capacity used: {total_repatriated_overall:.0f} / {QC}\")\n",
        "    print(f\"Percentage of quarantine capacity used: {total_repatriated_overall / QC * 100:.2f}%\")\n",
        "    print(f\"Total weighted priority score: {objective_value:.2f}\")\n",
        "    print(f\"Percentage of total priority score: {objective_value / total_repatriated_overall * 100:.2f}%\")\n",
        "    print(f\"Total number of flights scheduled: {any_flight_scheduled}\")\n",
        "    print(f\"Total number of airplanes assigned: {len(AIRPLANES)}\")\n",
        "    print(f\"Total number of cities considered: {len(CITIES)}\")\n",
        "    print(f\"Total number of priority groups considered: {len(PRIORITY_GROUPS)}\")\n",
        "    print(f\"Total number of airplane types considered: {len(AIRPLANES)}\")\n",
        "    print(\"\\n\\n\\n\")\n",
        "    print(\"\\n--- Auxiliary variables ---\")\n",
        "    for i in CITIES:\n",
        "      print(f\"City {i}: epsilon_i = {pulp.value(epsilon_i[i]):.0f}\")\n",
        "      for j_group in sorted_priority_groups_by_weight:\n",
        "        if alpha_ij[i][j_group].varValue is not None:\n",
        "          print(f\"  Group {j_group}: alpha_ij = {pulp.value(alpha_ij[i][j_group]):.0f}, P_hat_cum = {pulp.value(P_hat_cum_ij[i][j_group]):.0f}\")\n",
        "\n",
        "elif prob.status == pulp.LpStatusInfeasible:\n",
        "    print(\"The problem is INFEASIBLE\")\n",
        "elif prob.status == pulp.LpStatusUnbounded:\n",
        "    print(\"The problem is UNBOUNDED\")\n",
        "else:\n",
        "    print(f\"Problem was not solved to optimality or feasibility. Status: {solution_status}\")\n",
        "\n",
        "print(\"\\nStep 5 Solved\")"
      ],
      "metadata": {
        "colab": {
          "base_uri": "https://localhost:8080/"
        },
        "id": "noOCaSV-ss9v",
        "outputId": "d02c9ce5-8e30-45b8-b898-cc863d64aec2"
      },
      "execution_count": 27,
      "outputs": [
        {
          "output_type": "stream",
          "name": "stdout",
          "text": [
            "\n",
            "--- REPATRIATION SCHEDULE ---\n",
            "\n",
            "City: Tokyo (Nhật Bản) (ID: C001)\n",
            "  No airplanes assigned to this city.\n",
            "  Total Repatriated from this city (L_C001): 0\n",
            "\n",
            "City: Seoul (Hàn Quốc) (ID: C002)\n",
            "  Assigned Airplanes:\n",
            "  - Airplane VJ001 (Vietjet Air - Airbus A330-300, Capacity: 370)\n",
            "  - Airplane VJ002 (Vietjet Air - Airbus A321NEO/CEO, Capacity: 230)\n",
            "  - Airplane VJ003 (Vietjet Air - Airbus A321NEO/CEO, Capacity: 230)\n",
            "  - Airplane VN003 (Vietnam Airlines - Airbus A350-900, Capacity: 315)\n",
            "  Total Repatriated from this city (L_C002): 1145\n",
            "  Repatriation by Priority Group:\n",
            "    - Group N1 (N1_KhanCap): 1145 (Initial Demand: 1500)\n",
            "\n",
            "City: Taipei (Đài Loan) (ID: C003)\n",
            "  Assigned Airplanes:\n",
            "  - Airplane QH001 (Bamboo Airways - Boeing 787-9, Capacity: 290)\n",
            "  - Airplane QH002 (Bamboo Airways - Airbus A321neo, Capacity: 196)\n",
            "  - Airplane VN002 (Vietnam Airlines - Boeing 787-9, Capacity: 290)\n",
            "  Total Repatriated from this city (L_C003): 776\n",
            "  Repatriation by Priority Group:\n",
            "    - Group N1 (N1_KhanCap): 776 (Initial Demand: 800)\n",
            "\n",
            "City: Washington D.C. (ID: C004)\n",
            "  No airplanes assigned to this city.\n",
            "  Total Repatriated from this city (L_C004): 0\n",
            "\n",
            "City: Sydney (Úc) (ID: C005)\n",
            "  Assigned Airplanes:\n",
            "  - Airplane VN001 (Vietnam Airlines - Boeing 787-9, Capacity: 290)\n",
            "  Total Repatriated from this city (L_C005): 290\n",
            "  Repatriation by Priority Group:\n",
            "    - Group N1 (N1_KhanCap): 290 (Initial Demand: 300)\n",
            "\n",
            "\n",
            "\n",
            "\n",
            "\n",
            "--- OVERALL STATISTICS ---\n",
            "Total citizens repatriated across all cities: 2211\n",
            "Quarantine capacity used: 2211 / 5000\n",
            "Percentage of quarantine capacity used: 44.22%\n",
            "Total weighted priority score: 22110.00\n",
            "Percentage of total priority score: 1000.00%\n",
            "Total number of flights scheduled: True\n",
            "Total number of airplanes assigned: 8\n",
            "Total number of cities considered: 5\n",
            "Total number of priority groups considered: 4\n",
            "Total number of airplane types considered: 8\n",
            "\n",
            "\n",
            "\n",
            "\n",
            "\n",
            "--- Auxiliary variables ---\n",
            "City C001: epsilon_i = 1\n",
            "  Group N1: alpha_ij = 0, P_hat_cum = 7500\n",
            "  Group N2: alpha_ij = 0, P_hat_cum = 32500\n",
            "  Group N3: alpha_ij = 0, P_hat_cum = 42500\n",
            "  Group N4: alpha_ij = 0, P_hat_cum = 50000\n",
            "City C002: epsilon_i = 1\n",
            "  Group N1: alpha_ij = 0, P_hat_cum = 355\n",
            "  Group N2: alpha_ij = 0, P_hat_cum = 6355\n",
            "  Group N3: alpha_ij = 0, P_hat_cum = 8855\n",
            "  Group N4: alpha_ij = 0, P_hat_cum = 11855\n",
            "City C003: epsilon_i = 1\n",
            "  Group N1: alpha_ij = 0, P_hat_cum = 24\n",
            "  Group N2: alpha_ij = 0, P_hat_cum = 2524\n",
            "  Group N3: alpha_ij = 0, P_hat_cum = 3224\n",
            "  Group N4: alpha_ij = 0, P_hat_cum = 4224\n",
            "City C004: epsilon_i = 1\n",
            "  Group N1: alpha_ij = 0, P_hat_cum = 2000\n",
            "  Group N2: alpha_ij = 0, P_hat_cum = 5000\n",
            "  Group N3: alpha_ij = 0, P_hat_cum = 8500\n",
            "  Group N4: alpha_ij = 0, P_hat_cum = 10000\n",
            "City C005: epsilon_i = 1\n",
            "  Group N1: alpha_ij = 0, P_hat_cum = 10\n",
            "  Group N2: alpha_ij = 0, P_hat_cum = 710\n",
            "  Group N3: alpha_ij = 0, P_hat_cum = 1210\n",
            "  Group N4: alpha_ij = 0, P_hat_cum = 1510\n",
            "\n",
            "Step 5 Solved\n"
          ]
        }
      ]
    }
  ]
}
